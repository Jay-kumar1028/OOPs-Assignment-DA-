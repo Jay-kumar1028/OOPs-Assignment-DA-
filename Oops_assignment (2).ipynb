{
  "nbformat": 4,
  "nbformat_minor": 0,
  "metadata": {
    "colab": {
      "provenance": []
    },
    "kernelspec": {
      "name": "python3",
      "display_name": "Python 3"
    },
    "language_info": {
      "name": "python"
    }
  },
  "cells": [
    {
      "cell_type": "markdown",
      "source": [
        "#**Python OOPs Assignment Answers (Q. & A.**"
      ],
      "metadata": {
        "id": "7rmFxScW0-rL"
      }
    },
    {
      "cell_type": "markdown",
      "source": [
        "\n",
        "**1. What is Object-Oriented Programming (OOP)?**\n",
        "\n",
        "- A programming paradigm (style) that organizes code around objects (data and behavior) rather than functions. It focuses on modeling real-world entities.\n",
        "\n",
        "**2. What is a class in OOP?**\n",
        "\n",
        "- A blueprint or template for creating objects. It defines the structure (attributes) and behavior (methods) all instances will share.\n",
        "\n",
        "**3. What is an object in OOP?**\n",
        "\n",
        "- An instance of a class. It is the actual, concrete entity created from the blueprint, holding specific data values.\n",
        "\n",
        "**4. What is the difference between abstraction and encapsulation?**\n",
        "\n",
        "- Abstraction hides complexity (shows essentials); Encapsulation bundles data and methods and protects the data.\n",
        "\n",
        "**5. What are dunder methods in Python?**\n",
        "\n",
        "- Special methods with double underscores (e.g., __init__, __str__). They are automatically called by Python for built-in operations.\n",
        "\n",
        "**6. Explain the concept of inheritance in OOP.**\n",
        "\n",
        "- A mechanism where a child class acquires the attributes and methods of a parent class. It promotes code reusability.\n",
        "\n",
        "**7. What is polymorphism in OOP?**\n",
        "\n",
        "- Meaning \"many forms.\" It allows a single interface (like a method name) to represent different, specific behaviors.\n",
        "\n",
        "**8. How is encapsulation achieved in Python?**\n",
        "\n",
        "- Primarily through convention: using a single (_) or double (__) leading underscore to signal that members are non-public.\n",
        "\n",
        "**9. What is a constructor in Python?**\n",
        "\n",
        "- A special method, named __init__, used to initialize a newly created object by setting its starting attributes/state.\n",
        "\n",
        "**10. What are class and static methods in python?**\n",
        "\n",
        "- Class Method (@classmethod) binds to the class (cls); Static Method (@staticmethod) is a utility function with no class/object access.\n",
        "\n",
        "**11. What is method overloading in Python?**\n",
        "\n",
        "- Defining multiple methods with the same name but different parameters. Python does not support it directly; uses default arguments instead.\n",
        "\n",
        "**12. What is method overriding in OOP?**\n",
        "\n",
        "- When a child class provides its own specific implementation for a method that is already defined in its parent class.\n",
        "\n",
        "**13. What is a property decorator in Python?**\n",
        "\n",
        "- The @property decorator is used to provide getter/setter functionality, allowing methods to be accessed like attributes (obj.name).\n",
        "\n",
        "**14. Why is polymorphism important in OOP?**\n",
        "\n",
        "- It makes code more flexible, extensible, and readable by allowing general code to work with specific subtypes.\n",
        "\n",
        "**15. What is an abstract class in Python?**\n",
        "\n",
        "- A class that cannot be instantiated and is intended only to be a blueprint for other classes.\n",
        "\n",
        "**16. What are the advantages of OOP?**\n",
        "\n",
        "- Reusability, Maintainability, Modularity, and Security (encapsulation).\n",
        "\n",
        "**17.what is the Difference between a class variable and an instance variable?**\n",
        "\n",
        "- Class Variable is shared by all instances; Instance Variable is unique to each instance (defined in __init__).\n",
        "\n",
        "**18. What is multiple inheritance in Python?**\n",
        "\n",
        "- When a class inherits from more than one parent class. Python supports it, using MRO (Method Resolution Order) to handle conflicts.\n",
        "\n",
        "**19. Explain the purpose of ‘’__str__’ and ‘__repr__’ ‘ methods in Python?**\n",
        "\n",
        "- __str__ is for readable output (end-users); __repr__ is for unambiguous output (developers).\n",
        "\n",
        "**20. What is the significance of the ‘super()’ function in Python?**\n",
        "\n",
        "- Allows a child class to call methods (especially __init__) of its immediate parent class.\n",
        "\n",
        "**21. What is the significance of the __del__ method in Python?**\n",
        "\n",
        "- The destructor method, called just before an object is garbage collected, often used for cleanup tasks.\n",
        "\n",
        "**22. What is the difference between @staticmethod and @classmethod in Python?**\n",
        "\n",
        "- @staticmethod takes no special first arg; @classmethod takes the class (cls).\n",
        "\n",
        "**23. How does polymorphism work in Python with inheritance?**\n",
        "\n",
        "- It relies on method overriding; the appropriate method (from parent or child) is selected and executed at runtime.\n",
        "\n",
        "**24. What is method chaining in Python OOP?**\n",
        "\n",
        "- A technique where methods return the object itself (return self), allowing sequential method calls in one line (e.g., obj.m1().m2()).\n",
        "\n",
        "**25. What is the purpose of the __call__ method in Python?**\n",
        "\n",
        "- The primary purpose of the __call__ method in Python is to allow an instance of a class to be treated and invoked as if it were a function.\n",
        "\n",
        "- When you define the __call__ method in a class, you make the instances of that class callable.\n",
        "\n",
        "Key Points:\n",
        "1. Making Objects Callable (Functors): If an object has a __call__ method, you can use the function-call syntax (parentheses ()) on the object itself.\n",
        "\n",
        "- Syntax: If obj is an instance of a class that defines __call__, you can call it like this: obj(arg1, arg2, ...)\n",
        "\n",
        "2. Implementation: The code inside the __call__ method is executed when the object is called. It can take any number of arguments, just like a regular function."
      ],
      "metadata": {
        "id": "lbKdmgbo2D5Q"
      }
    },
    {
      "cell_type": "markdown",
      "source": [
        "#**OOPs Practical Questions: Python Solutions**"
      ],
      "metadata": {
        "id": "8tYZA_P65bFO"
      }
    },
    {
      "cell_type": "markdown",
      "source": [
        "**1.Create a parent class Animal with a method speak() that prints a generic message. Create a child class Dog\n",
        "that overrides the speak() method to print \"Bark!\".**"
      ],
      "metadata": {
        "id": "8ZK8yuKtuWY7"
      }
    },
    {
      "cell_type": "code",
      "source": [
        "\n",
        "class Animal:\n",
        "    def speak(self):\n",
        "        \"\"\"Generic method for an animal to speak.\"\"\"\n",
        "        print(\"A generic animal sound.\")\n",
        "\n",
        "class Dog(Animal):\n",
        "    def speak(self):\n",
        "        \"\"\"Dog-specific implementation, overriding the parent method.\"\"\"\n",
        "        print(\"Bark.\")\n",
        "\n",
        "# Demonstration\n",
        "print(\"--- Question 1 ---\")\n",
        "animal = Animal()\n",
        "dog = Dog()\n",
        "animal.speak()\n",
        "dog.speak()"
      ],
      "metadata": {
        "id": "5-nbAYthuwpe",
        "colab": {
          "base_uri": "https://localhost:8080/"
        },
        "outputId": "3d69e586-c835-4556-9011-5bf21c80929d"
      },
      "execution_count": 1,
      "outputs": [
        {
          "output_type": "stream",
          "name": "stdout",
          "text": [
            "--- Question 1 ---\n",
            "A generic animal sound.\n",
            "Bark.\n"
          ]
        }
      ]
    },
    {
      "cell_type": "markdown",
      "source": [
        "**2.Write a program to create an abstract class Shape with a method area(). Derive classes Circle and Rectangle\n",
        "from it and implement the area() method in both.**"
      ],
      "metadata": {
        "id": "v2-a632Xu48i"
      }
    },
    {
      "cell_type": "code",
      "source": [
        "\n",
        "from abc import ABC, abstractmethod\n",
        "import math\n",
        "\n",
        "class Shape(ABC):\n",
        "    @abstractmethod\n",
        "    def area(self):\n",
        "        \"\"\"Abstract method to calculate the area.\"\"\"\n",
        "        pass\n",
        "\n",
        "class Circle(Shape):\n",
        "    def __init__(self, radius):\n",
        "        self.radius = radius\n",
        "\n",
        "    def area(self):\n",
        "        \"\"\"Calculates the area of the circle.\"\"\"\n",
        "        return math.pi * self.radius ** 2\n",
        "\n",
        "class Rectangle(Shape):\n",
        "    def __init__(self, length, width):\n",
        "        self.length = length\n",
        "        self.width = width\n",
        "\n",
        "    def area(self):\n",
        "        \"\"\"Calculates the area of the rectangle.\"\"\"\n",
        "        return self.length * self.width\n",
        "\n",
        "# Demonstration\n",
        "print(\"\\n--- Question 2 ---\")\n",
        "circle = Circle(5)\n",
        "rectangle = Rectangle(4, 6)\n",
        "print(f\"Circle Area: {circle.area():.2f}\")\n",
        "print(f\"Rectangle Area: {rectangle.area()}\")"
      ],
      "metadata": {
        "id": "RCg83AkWvPv1",
        "colab": {
          "base_uri": "https://localhost:8080/"
        },
        "outputId": "484a652c-2d9f-4e66-a3ab-d0c0bd75b4b5"
      },
      "execution_count": 2,
      "outputs": [
        {
          "output_type": "stream",
          "name": "stdout",
          "text": [
            "\n",
            "--- Question 2 ---\n",
            "Circle Area: 78.54\n",
            "Rectangle Area: 24\n"
          ]
        }
      ]
    },
    {
      "cell_type": "markdown",
      "source": [
        "**3.Implement a multi-level inheritance scenario where a class Vehicle has an attribute type. Derive a class Car\n",
        "and further derive a class ElectricCar that adds a battery attribute**"
      ],
      "metadata": {
        "id": "YEIqZJ2mvcGW"
      }
    },
    {
      "cell_type": "code",
      "source": [
        "\n",
        "class Vehicle:\n",
        "    def __init__(self, vehicle_type):\n",
        "        self.type = vehicle_type\n",
        "\n",
        "    def get_info(self):\n",
        "        return f\"Type: {self.type}\"\n",
        "\n",
        "class Car(Vehicle):\n",
        "    def __init__(self, vehicle_type, fuel_type):\n",
        "        super().__init__(vehicle_type)\n",
        "        self.fuel_type = fuel_type\n",
        "\n",
        "    def get_info(self):\n",
        "        # Extend the parent's info\n",
        "        return f\"{super().get_info()}, Fuel: {self.fuel_type}\"\n",
        "\n",
        "class ElectricCar(Car):\n",
        "    def __init__(self, vehicle_type, fuel_type, battery_capacity):\n",
        "        # Vehicle -> Car -> ElectricCar (Multi-level)\n",
        "        super().__init__(vehicle_type, fuel_type)\n",
        "        self.battery_capacity = battery_capacity\n",
        "\n",
        "    def get_info(self):\n",
        "        # Extend the Car's info\n",
        "        return f\"{super().get_info()}, Battery: {self.battery_capacity} kWh\"\n",
        "\n",
        "# Demonstration\n",
        "print(\"\\n--- Question 3 ---\")\n",
        "ecar = ElectricCar(\"Sedan\", \"Electric\", 75)\n",
        "print(f\"Electric Car Info: {ecar.get_info()}\")"
      ],
      "metadata": {
        "id": "S-SYba9owiB0",
        "colab": {
          "base_uri": "https://localhost:8080/"
        },
        "outputId": "8660dc99-b076-4412-cfe6-7dfcf53268fe"
      },
      "execution_count": 3,
      "outputs": [
        {
          "output_type": "stream",
          "name": "stdout",
          "text": [
            "\n",
            "--- Question 3 ---\n",
            "Electric Car Info: Type: Sedan, Fuel: Electric, Battery: 75 kWh\n"
          ]
        }
      ]
    },
    {
      "cell_type": "markdown",
      "source": [
        "**4Demonstrate polymorphism by creating a base class Bird with a method fly(). Create two derived classes\n",
        "Sparrow and Penguin that override the fly() method.**"
      ],
      "metadata": {
        "id": "OKfkyDS3wkAo"
      }
    },
    {
      "cell_type": "code",
      "source": [
        "\n",
        "class Bird:\n",
        "    def fly(self):\n",
        "        \"\"\"Generic fly method.\"\"\"\n",
        "        print(\"This bird flies in the air.\")\n",
        "\n",
        "class Sparrow(Bird):\n",
        "    def fly(self):\n",
        "        \"\"\"Sparrow's specific fly implementation.\"\"\"\n",
        "        print(\"The sparrow flits from branch to branch.\")\n",
        "\n",
        "class Penguin(Bird):\n",
        "    def fly(self):\n",
        "        \"\"\"Penguin's specific 'fly' implementation (they don't fly in air).\"\"\"\n",
        "        print(\"The penguin can't fly, but it swims fast!\")\n",
        "\n",
        "# Demonstration\n",
        "print(\"\\n--- Question 4 ---\")\n",
        "# The same method call, fly(), behaves differently based on the object type.\n",
        "def make_it_fly(bird):\n",
        "    bird.fly()\n",
        "\n",
        "sparrow = Sparrow()\n",
        "penguin = Penguin()\n",
        "\n",
        "make_it_fly(sparrow)\n",
        "make_it_fly(penguin)"
      ],
      "metadata": {
        "id": "ZagLXHlWwr4C",
        "colab": {
          "base_uri": "https://localhost:8080/"
        },
        "outputId": "d5a86d02-a4ad-4064-b75b-2e7aad845641"
      },
      "execution_count": 4,
      "outputs": [
        {
          "output_type": "stream",
          "name": "stdout",
          "text": [
            "\n",
            "--- Question 4 ---\n",
            "The sparrow flits from branch to branch.\n",
            "The penguin can't fly, but it swims fast!\n"
          ]
        }
      ]
    },
    {
      "cell_type": "markdown",
      "source": [
        "**5.Write a program to demonstrate encapsulation by creating a class BankAccount with private attributes\n",
        "balance and methods to deposit, withdraw, and check balance.**"
      ],
      "metadata": {
        "id": "HUWEwkwVwyOQ"
      }
    },
    {
      "cell_type": "code",
      "source": [
        "\n",
        "class BankAccount:\n",
        "    def __init__(self, initial_balance=0):\n",
        "        # Private attribute (conventionally represented by a single underscore)\n",
        "        self._balance = initial_balance\n",
        "\n",
        "    def deposit(self, amount):\n",
        "        if amount > 0:\n",
        "            self._balance += amount\n",
        "            print(f\"Deposited ${amount}. New balance: ${self._balance}\")\n",
        "        else:\n",
        "            print(\"Deposit amount must be positive.\")\n",
        "\n",
        "    def withdraw(self, amount):\n",
        "        if amount > 0 and amount <= self._balance:\n",
        "            self._balance -= amount\n",
        "            print(f\"Withdrew ${amount}. New balance: ${self._balance}\")\n",
        "            return True\n",
        "        elif amount > self._balance:\n",
        "            print(\"Error: Insufficient funds.\")\n",
        "            return False\n",
        "        else:\n",
        "            print(\"Withdrawal amount must be positive.\")\n",
        "            return False\n",
        "\n",
        "    def check_balance(self):\n",
        "        # Controlled access to the private attribute\n",
        "        print(f\"Current Balance: ${self._balance}\")\n",
        "        return self._balance\n",
        "\n",
        "# Demonstration\n",
        "print(\"\\n--- Question 5 ---\")\n",
        "account = BankAccount(100)\n",
        "account.check_balance()\n",
        "account.deposit(50)\n",
        "account.withdraw(75)\n",
        "account.withdraw(100) # This will fail\n",
        "# Trying to access the attribute directly (Discouraged/Prevented in true encapsulation)\n",
        "# print(account._balance)"
      ],
      "metadata": {
        "id": "BkwrG5f7w8pe",
        "colab": {
          "base_uri": "https://localhost:8080/"
        },
        "outputId": "952e6d1e-b8a2-4849-8db2-91370928ac1a"
      },
      "execution_count": 5,
      "outputs": [
        {
          "output_type": "stream",
          "name": "stdout",
          "text": [
            "\n",
            "--- Question 5 ---\n",
            "Current Balance: $100\n",
            "Deposited $50. New balance: $150\n",
            "Withdrew $75. New balance: $75\n",
            "Error: Insufficient funds.\n"
          ]
        },
        {
          "output_type": "execute_result",
          "data": {
            "text/plain": [
              "False"
            ]
          },
          "metadata": {},
          "execution_count": 5
        }
      ]
    },
    {
      "cell_type": "markdown",
      "source": [
        "**6.Demonstrate runtime polymorphism using a method play() in a base class Instrument. Derive classes Guitar and Piano that implement their own version of play().**"
      ],
      "metadata": {
        "id": "DLSm1ZrzxDKh"
      }
    },
    {
      "cell_type": "code",
      "source": [
        "\n",
        "class Instrument:\n",
        "    def play(self):\n",
        "        \"\"\"Base method for playing an instrument.\"\"\"\n",
        "        print(\"The instrument makes a sound.\")\n",
        "\n",
        "class Guitar(Instrument):\n",
        "    def play(self):\n",
        "        \"\"\"Guitar-specific play implementation.\"\"\"\n",
        "        print(\"Strumming a melodic tune on the Guitar.\")\n",
        "\n",
        "class Piano(Instrument):\n",
        "    def play(self):\n",
        "        \"\"\"Piano-specific play implementation.\"\"\"\n",
        "        print(\"Pressing the keys to play chords on the Piano.\")\n",
        "\n",
        "# Demonstration\n",
        "print(\"\\n--- Question 6 ---\")\n",
        "instruments = [Guitar(), Piano()]\n",
        "\n",
        "for instrument in instruments:\n",
        "    # At runtime, Python determines which play() method to call\n",
        "    instrument.play()"
      ],
      "metadata": {
        "id": "EA5inxDfxLeJ",
        "colab": {
          "base_uri": "https://localhost:8080/"
        },
        "outputId": "b3ed1174-d36c-4a5d-c8a4-c829299a3652"
      },
      "execution_count": 6,
      "outputs": [
        {
          "output_type": "stream",
          "name": "stdout",
          "text": [
            "\n",
            "--- Question 6 ---\n",
            "Strumming a melodic tune on the Guitar.\n",
            "Pressing the keys to play chords on the Piano.\n"
          ]
        }
      ]
    },
    {
      "cell_type": "markdown",
      "source": [
        "**7.Create a class MathOperations with a class method add_numbers() to add two numbers and a static\n",
        "method subtract_numbers() to subtract two numbers.**"
      ],
      "metadata": {
        "id": "F5HpiyOrxQjP"
      }
    },
    {
      "cell_type": "code",
      "source": [
        "\n",
        "class MathOperations:\n",
        "    # A class method receives the class itself (cls) as the first argument\n",
        "    @classmethod\n",
        "    def add_numbers(cls, a, b):\n",
        "        \"\"\"Adds two numbers using a class method.\"\"\"\n",
        "        # Class methods are often used for factory methods, but work fine here.\n",
        "        print(f\"Adding {a} and {b}...\")\n",
        "        return a + b\n",
        "\n",
        "    # A static method takes no reference to the instance or the class\n",
        "    @staticmethod\n",
        "    def subtract_numbers(a, b):\n",
        "        \"\"\"Subtracts two numbers using a static method.\"\"\"\n",
        "        print(f\"Subtracting {b} from {a}...\")\n",
        "        return a - b\n",
        "\n",
        "# Demonstration\n",
        "print(\"\\n--- Question 7 ---\")\n",
        "sum_result = MathOperations.add_numbers(10, 5)\n",
        "diff_result = MathOperations.subtract_numbers(10, 5)\n",
        "\n",
        "print(f\"Sum: {sum_result}\")\n",
        "print(f\"Difference: {diff_result}\")"
      ],
      "metadata": {
        "id": "NehZvpSJx4QX",
        "colab": {
          "base_uri": "https://localhost:8080/"
        },
        "outputId": "ac8d57c5-4d3e-4201-9432-57e0533bfcf8"
      },
      "execution_count": 7,
      "outputs": [
        {
          "output_type": "stream",
          "name": "stdout",
          "text": [
            "\n",
            "--- Question 7 ---\n",
            "Adding 10 and 5...\n",
            "Subtracting 5 from 10...\n",
            "Sum: 15\n",
            "Difference: 5\n"
          ]
        }
      ]
    },
    {
      "cell_type": "markdown",
      "source": [
        "**8.Implement a class Person with a class method to count the total number of persons created.**"
      ],
      "metadata": {
        "id": "uWQVDZHTx930"
      }
    },
    {
      "cell_type": "code",
      "source": [
        "\n",
        "class Person:\n",
        "    # Class variable to keep track of the count\n",
        "    total_persons_created = 0\n",
        "\n",
        "    def __init__(self, name):\n",
        "        self.name = name\n",
        "        # Increment the class variable every time a new instance is created\n",
        "        Person.total_persons_created += 1\n",
        "        print(f\"Person '{self.name}' created. Total: {Person.total_persons_created}\")\n",
        "\n",
        "# Demonstration\n",
        "print(\"\\n--- Question 8 ---\")\n",
        "p1 = Person(\"Alice\")\n",
        "p2 = Person(\"Bob\")\n",
        "p3 = Person(\"Charlie\")\n",
        "\n",
        "# Access the class variable via the class\n",
        "print(f\"\\nFinal Total Persons: {Person.total_persons_created}\")"
      ],
      "metadata": {
        "id": "wwZ2mLNjyFgd",
        "colab": {
          "base_uri": "https://localhost:8080/"
        },
        "outputId": "e91a06b6-d1b7-4cdc-86a7-45321bdd3a27"
      },
      "execution_count": 8,
      "outputs": [
        {
          "output_type": "stream",
          "name": "stdout",
          "text": [
            "\n",
            "--- Question 8 ---\n",
            "Person 'Alice' created. Total: 1\n",
            "Person 'Bob' created. Total: 2\n",
            "Person 'Charlie' created. Total: 3\n",
            "\n",
            "Final Total Persons: 3\n"
          ]
        }
      ]
    },
    {
      "cell_type": "markdown",
      "source": [
        "**9.Write a class Fraction with attributes numerator and denominator. Override the str method to display the\n",
        "fraction as \"numerator/denominator\".**"
      ],
      "metadata": {
        "id": "VfdVNcH9yKlI"
      }
    },
    {
      "cell_type": "code",
      "source": [
        "\n",
        "class Fraction:\n",
        "    def __init__(self, numerator, denominator):\n",
        "        self.numerator = numerator\n",
        "        self.denominator = denominator\n",
        "\n",
        "    def __str__(self):\n",
        "        \"\"\"Overrides the standard string representation of the object.\"\"\"\n",
        "        return f\"{self.numerator}/{self.denominator}\"\n",
        "\n",
        "# Demonstration\n",
        "print(\"\\n--- Question 9 ---\")\n",
        "fraction = Fraction(3, 4)\n",
        "print(f\"Fraction object displayed using __str__: {fraction}\")"
      ],
      "metadata": {
        "id": "Vu0TbzjsyYDx",
        "colab": {
          "base_uri": "https://localhost:8080/"
        },
        "outputId": "ed9e347c-0b46-44f1-c6aa-7978e76a4335"
      },
      "execution_count": 9,
      "outputs": [
        {
          "output_type": "stream",
          "name": "stdout",
          "text": [
            "\n",
            "--- Question 9 ---\n",
            "Fraction object displayed using __str__: 3/4\n"
          ]
        }
      ]
    },
    {
      "cell_type": "markdown",
      "source": [
        "**10. Demonstrate operator overloading by creating a class Vector and overriding the add method to add two\n",
        "vectors.**"
      ],
      "metadata": {
        "id": "1Ox55CE_yadu"
      }
    },
    {
      "cell_type": "code",
      "source": [
        "\n",
        "class Vector:\n",
        "    def __init__(self, x, y):\n",
        "        self.x = x\n",
        "        self.y = y\n",
        "\n",
        "    def __str__(self):\n",
        "        return f\"Vector({self.x}, {self.y})\"\n",
        "\n",
        "    def __add__(self, other):\n",
        "        \"\"\"Overrides the '+' operator for Vector objects.\"\"\"\n",
        "        # Returns a new Vector that is the sum of the two vectors\n",
        "        new_x = self.x + other.x\n",
        "        new_y = self.y + other.y\n",
        "        return Vector(new_x, new_y)\n",
        "\n",
        "# Demonstration\n",
        "print(\"\\n--- Question 10 ---\")\n",
        "v1 = Vector(2, 3)\n",
        "v2 = Vector(5, 7)\n",
        "\n",
        "# The '+' operator now calls the __add__ method\n",
        "v3 = v1 + v2\n",
        "\n",
        "print(f\"Vector 1: {v1}\")\n",
        "print(f\"Vector 2: {v2}\")\n",
        "print(f\"Vector 1 + Vector 2: {v3}\")"
      ],
      "metadata": {
        "id": "05gWD_H4yrIq",
        "colab": {
          "base_uri": "https://localhost:8080/"
        },
        "outputId": "8b956c0b-40c1-4c47-946f-4a352b815be4"
      },
      "execution_count": 10,
      "outputs": [
        {
          "output_type": "stream",
          "name": "stdout",
          "text": [
            "\n",
            "--- Question 10 ---\n",
            "Vector 1: Vector(2, 3)\n",
            "Vector 2: Vector(5, 7)\n",
            "Vector 1 + Vector 2: Vector(7, 10)\n"
          ]
        }
      ]
    },
    {
      "cell_type": "markdown",
      "source": [
        "**11.Create a class Person with attributes name and age. Add a method greet() that prints \"Hello, my name is\n",
        "{name} and I am {age} years old.\"**"
      ],
      "metadata": {
        "id": "I6-pU8bWyvYb"
      }
    },
    {
      "cell_type": "code",
      "source": [
        "class Person:\n",
        "    \"\"\"\n",
        "    Represents a person with a name and age.\n",
        "    \"\"\"\n",
        "    def __init__(self, name, age):\n",
        "        \"\"\"\n",
        "        Initializes a new Person object.\n",
        "\n",
        "        :param name: The name of the person (str).\n",
        "        :param age: The age of the person (int).\n",
        "        \"\"\"\n",
        "        self.name = name\n",
        "        self.age = age\n",
        "\n",
        "    def greet(self):\n",
        "        \"\"\"\n",
        "        Prints a greeting message including the person's name and age.\n",
        "        \"\"\"\n",
        "        print(f\"Hello, my name is {self.name} and I am {self.age} years old.\")\n",
        "\n",
        "# --- Example Usage ---\n",
        "# 1. Create a Person object\n",
        "person1 = Person(\"jay\", 28)\n",
        "\n",
        "# 2. Call the greet method\n",
        "person1.greet()\n",
        "\n",
        "# 3. Create another Person object\n",
        "person2 = Person(\"sathi\", 22)\n",
        "person2.greet()"
      ],
      "metadata": {
        "colab": {
          "base_uri": "https://localhost:8080/"
        },
        "id": "BndStoM6dJ5m",
        "outputId": "21473b47-4bc2-403d-f559-8dc17e913c30"
      },
      "execution_count": 24,
      "outputs": [
        {
          "output_type": "stream",
          "name": "stdout",
          "text": [
            "Hello, my name is jay and I am 28 years old.\n",
            "Hello, my name is sathi and I am 22 years old.\n"
          ]
        }
      ]
    },
    {
      "cell_type": "markdown",
      "source": [
        "**12. Implement a class Student with attributes name and grades. Create a method average_grade() to compute\n",
        "the average of the grades.**"
      ],
      "metadata": {
        "id": "dySytaZty7W5"
      }
    },
    {
      "cell_type": "code",
      "source": [
        "\n",
        "class Student:\n",
        "    def __init__(self, name, grades):\n",
        "        self.name = name\n",
        "        # grades is expected to be a list of numbers, e.g., [90, 85, 92]\n",
        "        self.grades = grades\n",
        "\n",
        "    def average_grade(self):\n",
        "        \"\"\"Computes and returns the average of the student's grades.\"\"\"\n",
        "        if not self.grades:\n",
        "            return 0  # Handle case with no grades\n",
        "        return sum(self.grades) / len(self.grades)\n",
        "\n",
        "# Demonstration\n",
        "print(\"\\n--- Question 12 ---\")\n",
        "student = Student(\"Leo\", [88, 95, 78, 90])\n",
        "average = student.average_grade()\n",
        "print(f\"Student {student.name}'s average grade: {average:.2f}\")"
      ],
      "metadata": {
        "id": "WvoLJehFzD9s",
        "colab": {
          "base_uri": "https://localhost:8080/"
        },
        "outputId": "21770948-ad71-48ba-ef95-7fbe7500ec3c"
      },
      "execution_count": 12,
      "outputs": [
        {
          "output_type": "stream",
          "name": "stdout",
          "text": [
            "\n",
            "--- Question 12 ---\n",
            "Student Leo's average grade: 87.75\n"
          ]
        }
      ]
    },
    {
      "cell_type": "markdown",
      "source": [
        "**13. Create a class Rectangle with methods set_dimensions() to set the dimensions and area() to calculate the\n",
        "area.**"
      ],
      "metadata": {
        "id": "2Z8-GDLIzKTG"
      }
    },
    {
      "cell_type": "code",
      "source": [
        "class Rectangle:\n",
        "    def __init__(self):\n",
        "        self.length = 0\n",
        "        self.width = 0\n",
        "\n",
        "    def set_dimensions(self, length, width):\n",
        "        \"\"\"Sets the length and width of the rectangle.\"\"\"\n",
        "        if length > 0 and width > 0:\n",
        "            self.length = length\n",
        "            self.width = width\n",
        "            print(f\"Dimensions set to {length}x{width}.\")\n",
        "        else:\n",
        "            print(\"Dimensions must be positive.\")\n",
        "\n",
        "    def area(self):\n",
        "        \"\"\"Calculates the area of the rectangle.\"\"\"\n",
        "        return self.length * self.width\n",
        "\n",
        "# Demonstration\n",
        "print(\"\\n--- Question 13 ---\")\n",
        "rect = Rectangle()\n",
        "rect.set_dimensions(12, 5)\n",
        "print(f\"Rectangle Area: {rect.area()}\")"
      ],
      "metadata": {
        "id": "SIe11r7QzR5s",
        "colab": {
          "base_uri": "https://localhost:8080/"
        },
        "outputId": "a1e72fc1-c688-4cdb-e339-02b02d49d75b"
      },
      "execution_count": 13,
      "outputs": [
        {
          "output_type": "stream",
          "name": "stdout",
          "text": [
            "\n",
            "--- Question 13 ---\n",
            "Dimensions set to 12x5.\n",
            "Rectangle Area: 60\n"
          ]
        }
      ]
    },
    {
      "cell_type": "markdown",
      "source": [
        "**14.Create a class Employee with a method calculate_salary() that computes the salary based on hours worked and hourly rate. Create a derived class Manager that adds a bonus to the salary.**"
      ],
      "metadata": {
        "id": "D85ddB_ezWAx"
      }
    },
    {
      "cell_type": "code",
      "source": [
        "\n",
        "class Employee:\n",
        "    def __init__(self, name, hourly_rate):\n",
        "        self.name = name\n",
        "        self.hourly_rate = hourly_rate\n",
        "\n",
        "    def calculate_salary(self, hours_worked):\n",
        "        \"\"\"Computes base salary.\"\"\"\n",
        "        base_salary = hours_worked * self.hourly_rate\n",
        "        return base_salary\n",
        "\n",
        "class Manager(Employee):\n",
        "    def __init__(self, name, hourly_rate, bonus):\n",
        "        super().__init__(name, hourly_rate)\n",
        "        self.bonus = bonus\n",
        "\n",
        "    def calculate_salary(self, hours_worked):\n",
        "        \"\"\"Overrides and extends the base salary with a bonus.\"\"\"\n",
        "        base_salary = super().calculate_salary(hours_worked)\n",
        "        total_salary = base_salary + self.bonus\n",
        "        return total_salary\n",
        "\n",
        "# Demonstration\n",
        "print(\"\\n--- Question 14 ---\")\n",
        "emp = Employee(\"Sarah\", 25)\n",
        "mgr = Manager(\"David\", 35, 1500)\n",
        "\n",
        "emp_salary = emp.calculate_salary(160)\n",
        "mgr_salary = mgr.calculate_salary(160)\n",
        "\n",
        "print(f\"Sarah (Employee) Salary: ${emp_salary}\")\n",
        "print(f\"David (Manager) Salary (with $1500 bonus): ${mgr_salary}\")"
      ],
      "metadata": {
        "id": "rHa1hWGIz7gp",
        "colab": {
          "base_uri": "https://localhost:8080/"
        },
        "outputId": "490428fb-1ab2-44a0-842f-3f21077b3060"
      },
      "execution_count": 14,
      "outputs": [
        {
          "output_type": "stream",
          "name": "stdout",
          "text": [
            "\n",
            "--- Question 14 ---\n",
            "Sarah (Employee) Salary: $4000\n",
            "David (Manager) Salary (with $1500 bonus): $7100\n"
          ]
        }
      ]
    },
    {
      "cell_type": "markdown",
      "source": [
        "**15.Create a class Product with attributes name, price, and quantity. Implement a method total_price() that calculates the total price of the product.**"
      ],
      "metadata": {
        "id": "mEY61m1Vz9rc"
      }
    },
    {
      "cell_type": "code",
      "source": [
        "\n",
        "class Product:\n",
        "    def __init__(self, name, price, quantity):\n",
        "        self.name = name\n",
        "        self.price = price\n",
        "        self.quantity = quantity\n",
        "\n",
        "    def total_price(self):\n",
        "        \"\"\"Calculates the total price (price * quantity).\"\"\"\n",
        "        return self.price * self.quantity\n",
        "\n",
        "# Demonstration\n",
        "print(\"\\n--- Question 15 ---\")\n",
        "product = Product(\"Laptop\", 1200.50, 2)\n",
        "total = product.total_price()\n",
        "print(f\"Product: {product.name}\")\n",
        "print(f\"Total Price for {product.quantity} items: ${total:.2f}\")"
      ],
      "metadata": {
        "id": "o5XNAfZU0Gk3",
        "colab": {
          "base_uri": "https://localhost:8080/"
        },
        "outputId": "c8ed3aad-dd9c-41f7-d6f7-3535f1a58e28"
      },
      "execution_count": 15,
      "outputs": [
        {
          "output_type": "stream",
          "name": "stdout",
          "text": [
            "\n",
            "--- Question 15 ---\n",
            "Product: Laptop\n",
            "Total Price for 2 items: $2401.00\n"
          ]
        }
      ]
    },
    {
      "cell_type": "markdown",
      "source": [
        "**16.Create a class Animal with an abstract method sound(). Create two derived classes Cow and Sheep that implement the sound() method.**"
      ],
      "metadata": {
        "id": "epeSGgWe0JoJ"
      }
    },
    {
      "cell_type": "code",
      "source": [
        "\n",
        "from abc import ABC, abstractmethod\n",
        "\n",
        "class Animal(ABC):\n",
        "    @abstractmethod\n",
        "    def sound(self):\n",
        "        \"\"\"Abstract method for the animal's sound.\"\"\"\n",
        "        pass\n",
        "\n",
        "class Cow(Animal):\n",
        "    def sound(self):\n",
        "        \"\"\"Cow's specific sound implementation.\"\"\"\n",
        "        return \"Moo!\"\n",
        "\n",
        "class Sheep(Animal):\n",
        "    def sound(self):\n",
        "        \"\"\"Sheep's specific sound implementation.\"\"\"\n",
        "        return \"Baa!\"\n",
        "\n",
        "# Demonstration\n",
        "print(\"\\n--- Question 16 ---\")\n",
        "cow = Cow()\n",
        "sheep = Sheep()\n",
        "print(f\"The Cow says: {cow.sound()}\")\n",
        "print(f\"The Sheep says: {sheep.sound()}\")"
      ],
      "metadata": {
        "id": "kO_gIIpf0SCS",
        "colab": {
          "base_uri": "https://localhost:8080/"
        },
        "outputId": "3263e635-0940-44f0-97b6-a700147c7338"
      },
      "execution_count": 16,
      "outputs": [
        {
          "output_type": "stream",
          "name": "stdout",
          "text": [
            "\n",
            "--- Question 16 ---\n",
            "The Cow says: Moo!\n",
            "The Sheep says: Baa!\n"
          ]
        }
      ]
    },
    {
      "cell_type": "markdown",
      "source": [
        "**17.Create a class Book with attributes title, author, and year_published. Add a method get_book_info() that returns a formatted string with the book's details.**"
      ],
      "metadata": {
        "id": "_YeDt75J0byP"
      }
    },
    {
      "cell_type": "code",
      "source": [
        "\n",
        "class Book:\n",
        "    def __init__(self, title, author, year_published):\n",
        "        self.title = title\n",
        "        self.author = author\n",
        "        self.year_published = year_published\n",
        "\n",
        "    def get_book_info(self):\n",
        "        \"\"\"Returns a nicely formatted string of the book's details.\"\"\"\n",
        "        return f\"Title: '{self.title}' | Author: {self.author} | Published: {self.year_published}\"\n",
        "\n",
        "# Demonstration\n",
        "print(\"\\n--- Question 17 ---\")\n",
        "book = Book(\"The Martian\", \"Andy Weir\", 2011)\n",
        "print(book.get_book_info())"
      ],
      "metadata": {
        "id": "BwnccRlm0gJe",
        "colab": {
          "base_uri": "https://localhost:8080/"
        },
        "outputId": "08938bce-3ce9-4b57-cd2d-7e382d2f92a8"
      },
      "execution_count": 17,
      "outputs": [
        {
          "output_type": "stream",
          "name": "stdout",
          "text": [
            "\n",
            "--- Question 17 ---\n",
            "Title: 'The Martian' | Author: Andy Weir | Published: 2011\n"
          ]
        }
      ]
    },
    {
      "cell_type": "markdown",
      "source": [
        "**18.Create a class House with attributes address and price. Create a derived class Mansion that adds an attribute number_of_rooms.**"
      ],
      "metadata": {
        "id": "tsh_C7Hr0lmc"
      }
    },
    {
      "cell_type": "code",
      "source": [
        "\n",
        "class House:\n",
        "    def __init__(self, address, price):\n",
        "        self.address = address\n",
        "        self.price = price\n",
        "\n",
        "    def get_details(self):\n",
        "        return f\"Address: {self.address}, Price: ${self.price:,.2f}\"\n",
        "\n",
        "class Mansion(House):\n",
        "    def __init__(self, address, price, number_of_rooms):\n",
        "        # Call the parent's constructor\n",
        "        super().__init__(address, price)\n",
        "        self.number_of_rooms = number_of_rooms\n",
        "\n",
        "    def get_details(self):\n",
        "        # Extend the parent's details\n",
        "        parent_details = super().get_details()\n",
        "        return f\"{parent_details}, Rooms: {self.number_of_rooms}\"\n",
        "\n",
        "# Demonstration\n",
        "print(\"\\n--- Question 18 ---\")\n",
        "mansion = Mansion(\"123 Grand Ave\", 1500000.00, 30)\n",
        "print(f\"Mansion Details: {mansion.get_details()}\")"
      ],
      "metadata": {
        "id": "Ek7VYsDj0s-M",
        "colab": {
          "base_uri": "https://localhost:8080/"
        },
        "outputId": "7934792a-94d1-4ae9-e0e2-bc46d3420fb5"
      },
      "execution_count": 18,
      "outputs": [
        {
          "output_type": "stream",
          "name": "stdout",
          "text": [
            "\n",
            "--- Question 18 ---\n",
            "Mansion Details: Address: 123 Grand Ave, Price: $1,500,000.00, Rooms: 30\n"
          ]
        }
      ]
    }
  ]
}